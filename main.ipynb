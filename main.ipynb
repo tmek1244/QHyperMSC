{
 "cells": [
  {
   "cell_type": "code",
   "execution_count": 8,
   "metadata": {
    "slideshow": {
     "slide_type": "slide"
    }
   },
   "outputs": [
    {
     "name": "stdout",
     "output_type": "stream",
     "text": [
      "{'solver': {'type': 'vqa', 'optimizer': {'type': 'scipy', 'maxfun': 200}, 'pqc': {'type': 'wfqaoa', 'layers': 5, 'penalty': 3}, 'params_inits': {'angles': [[0.5, 0.5, 0.5, 0.5, 0.5], [1, 1, 1, 1, 1]], 'hyper_args': [1, 2.5, 2.5]}}, 'problem': {'type': 'knapsack', 'max_weight': 2, 'items': [[1, 2], [1, 2], [1, 1]]}}\n"
     ]
    }
   ],
   "source": [
    "#read yaml file\n",
    "import yaml\n",
    "\n",
    "with open(\"configs/cem_kp.yaml\", 'r') as stream:\n",
    "    try:\n",
    "        config = yaml.safe_load(stream)\n",
    "    except yaml.YAMLError as exc:\n",
    "        print(exc)\n",
    "print(config)\n"
   ]
  },
  {
   "cell_type": "code",
   "execution_count": 11,
   "metadata": {},
   "outputs": [],
   "source": [
    "from QHyper.solvers import solver_from_config\n",
    "\n",
    "solver = solver_from_config(config)\n"
   ]
  },
  {
   "cell_type": "code",
   "execution_count": 12,
   "metadata": {},
   "outputs": [
    {
     "data": {
      "text/plain": [
       "SolverResult(results_probabilities={'00000': 0.1580399501811467, '00001': 0.010270379506994722, '00010': 0.009383422850867096, '00011': 0.024490163676211298, '00100': 0.010529240688646633, '00101': 0.02035298313640454, '00110': 0.30944026871447716, '00111': 0.005766319932680871, '01000': 0.006865542940697496, '01001': 0.028169813645767587, '01010': 0.053542323447889846, '01011': 0.0074258126091402985, '01100': 0.016559034157724518, '01101': 0.03728290079671686, '01110': 0.009516489563162749, '01111': 0.018076475550385693, '10000': 0.006865542940697455, '10001': 0.028169813645767497, '10010': 0.05354232344788981, '10011': 0.007425812609140283, '10100': 0.01655903415772452, '10101': 0.037282900796716895, '10110': 0.009516489563162766, '10111': 0.01807647555038569, '11000': 0.002069500791451921, '11001': 0.024916352780264647, '11010': 0.01616903424058875, '11011': 0.014199866153932665, '11100': 0.0145984985105855, '11101': 0.017839945779733742, '11110': 0.0028087376660474507, '11111': 0.004248549966985329}, params={'angles': array([[2.51423551, 0.09515553, 0.        , 0.94049793, 5.76653596],\n",
       "       [0.97548371, 0.25193161, 0.71370367, 0.22865725, 2.87445476]]), 'hyper_args': tensor([1. , 2.5, 2.5], requires_grad=True)}, history=[[OptimizationResult(value=1.4584906821672543, params=array([2.68649222, 0.        , 0.        , 1.11441589, 5.70690111,\n",
       "       1.30827137, 0.3357239 , 0.93018909, 0.        , 2.66023707]), history=[]), OptimizationResult(value=1.3217341847827946, params=array([2.73174112e+00, 0.00000000e+00, 0.00000000e+00, 1.09425907e+00,\n",
       "       5.72559631e+00, 1.26335634e+00, 3.20999431e-01, 8.89392063e-01,\n",
       "       5.41314212e-03, 2.72624620e+00]), history=[]), OptimizationResult(value=1.3188749611918043, params=array([2.72845957e+00, 8.39053958e-04, 0.00000000e+00, 1.09333334e+00,\n",
       "       5.71905480e+00, 1.26254259e+00, 3.21689131e-01, 8.89103151e-01,\n",
       "       7.03724658e-03, 2.72491826e+00]), history=[]), OptimizationResult(value=1.2608381938210669, params=array([2.69537688, 0.00873292, 0.        , 1.10075372, 5.72066289,\n",
       "       1.26597025, 0.32145566, 0.89221704, 0.01596115, 2.72546228]), history=[]), OptimizationResult(value=0.9249647634640328, params=array([2.57368612, 0.08951125, 0.        , 1.09629888, 5.73634411,\n",
       "       1.21974526, 0.3112159 , 0.8543281 , 0.10022098, 2.83802825]), history=[]), OptimizationResult(value=0.8559348881090141, params=array([2.54671208, 0.11340016, 0.        , 1.08963788, 5.73665624,\n",
       "       1.19996048, 0.30622788, 0.83665743, 0.12436834, 2.87641869]), history=[]), OptimizationResult(value=0.6117763826156407, params=array([2.54782162, 0.14960335, 0.        , 1.05612877, 5.74547235,\n",
       "       1.1323309 , 0.28235714, 0.7677864 , 0.17369282, 2.99085813]), history=[]), OptimizationResult(value=0.4552653553635487, params=array([2.60023278, 0.11641603, 0.        , 1.03319526, 5.73696263,\n",
       "       1.13115833, 0.28739419, 0.77712368, 0.15289258, 2.93902084]), history=[]), OptimizationResult(value=0.3538090433910255, params=array([2.58399634, 0.12214204, 0.        , 1.01822077, 5.73116129,\n",
       "       1.11324051, 0.28328151, 0.76764012, 0.16661011, 2.9307624 ]), history=[]), OptimizationResult(value=0.2745658684253742, params=array([2.56537592, 0.12004088, 0.        , 0.99098617, 5.73491331,\n",
       "       1.07247276, 0.27367165, 0.74667347, 0.18991514, 2.92573604]), history=[]), OptimizationResult(value=0.16579106612965797, params=array([2.54480646, 0.10137084, 0.        , 0.96745023, 5.74671838,\n",
       "       1.02990721, 0.26441022, 0.73177329, 0.20737234, 2.90338698]), history=[]), OptimizationResult(value=0.13088656109726646, params=array([2.51423551, 0.09515553, 0.        , 0.94049793, 5.76653596,\n",
       "       0.97548371, 0.25193161, 0.71370367, 0.22865725, 2.87445476]), history=[])]])"
      ]
     },
     "execution_count": 12,
     "metadata": {},
     "output_type": "execute_result"
    }
   ],
   "source": [
    "solver.solve()\n"
   ]
  },
  {
   "cell_type": "code",
   "execution_count": null,
   "metadata": {},
   "outputs": [],
   "source": []
  }
 ],
 "metadata": {
  "kernelspec": {
   "display_name": "venv",
   "language": "python",
   "name": "python3"
  },
  "language_info": {
   "codemirror_mode": {
    "name": "ipython",
    "version": 3
   },
   "file_extension": ".py",
   "mimetype": "text/x-python",
   "name": "python",
   "nbconvert_exporter": "python",
   "pygments_lexer": "ipython3",
   "version": "3.10.12"
  }
 },
 "nbformat": 4,
 "nbformat_minor": 2
}
