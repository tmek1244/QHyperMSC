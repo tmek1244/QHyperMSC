{
 "cells": [
  {
   "cell_type": "code",
   "execution_count": 1,
   "metadata": {
    "slideshow": {
     "slide_type": "slide"
    }
   },
   "outputs": [
    {
     "name": "stdout",
     "output_type": "stream",
     "text": [
      "{'solver': {'type': 'vqa', 'pqc': {'type': 'wfqaoa', 'layers': 5, 'penalty': 3}, 'params_inits': {'angles': [[0.5, 0.5, 0.5, 0.5, 0.5], [1, 1, 1, 1, 1]], 'hyper_args': [1, 2.5, 2.5]}, 'hyper_optimizer': {'type': 'cem', 'processes': 5, 'samples_per_epoch': 'PLACEHOLDER', 'epochs': 'PLACEHOLDER', 'elite_frac': 'PLACEHOLDER', 'bounds': [[1, 10], [1, 10], [1, 10]], 'disable_tqdm': True}}, 'problem': {'type': 'knapsack', 'max_weight': 2, 'items': [[1, 2], [1, 2], [1, 1]]}}\n"
     ]
    }
   ],
   "source": [
    "#read yaml file\n",
    "import yaml\n",
    "\n",
    "file_name = \"cem_test.yaml\"\n",
    "\n",
    "with open(f\"configs/{file_name}\", 'r') as stream:\n",
    "    try:\n",
    "        config = yaml.safe_load(stream)\n",
    "    except yaml.YAMLError as exc:\n",
    "        print(exc)\n",
    "print(config)\n"
   ]
  },
  {
   "cell_type": "code",
   "execution_count": 2,
   "metadata": {},
   "outputs": [],
   "source": [
    "samples_per_epochs = [100, 500, 1000, 2000]\n",
    "elite_fracs = [0.05, 0.1, 0.15, 0.2, 0.25, 0.3]\n"
   ]
  },
  {
   "cell_type": "code",
   "execution_count": 3,
   "metadata": {},
   "outputs": [],
   "source": [
    "from QHyper.solvers import solver_from_config\n",
    "from QHyper.util import weighted_avg_evaluation\n",
    "import copy\n",
    "\n",
    "def run_experiment(samples_per_epoch, elite_frac):\n",
    "    _config = copy.deepcopy(config)\n",
    "    _config['solver']['hyper_optimizer']['samples_per_epoch'] = samples_per_epoch\n",
    "    _config['solver']['hyper_optimizer']['elite_frac'] = elite_frac\n",
    "    _config['solver']['hyper_optimizer']['epochs'] = 10_000 // samples_per_epoch\n",
    "    solver = solver_from_config(_config)\n",
    "    results = solver.solve()\n",
    "\n",
    "    return weighted_avg_evaluation(results.results_probabilities, solver.problem.get_score)\n"
   ]
  },
  {
   "cell_type": "code",
   "execution_count": 4,
   "metadata": {},
   "outputs": [
    {
     "name": "stdout",
     "output_type": "stream",
     "text": [
      "Running experiment with samples_per_epoch=100, elite_frac=0.05\n"
     ]
    },
    {
     "ename": "KeyboardInterrupt",
     "evalue": "",
     "output_type": "error",
     "traceback": [
      "\u001b[0;31m---------------------------------------------------------------------------\u001b[0m",
      "\u001b[0;31mIndexError\u001b[0m                                Traceback (most recent call last)",
      "File \u001b[0;32m/usr/lib/python3.10/multiprocessing/pool.py:856\u001b[0m, in \u001b[0;36mIMapIterator.next\u001b[0;34m(self, timeout)\u001b[0m\n\u001b[1;32m    855\u001b[0m \u001b[39mtry\u001b[39;00m:\n\u001b[0;32m--> 856\u001b[0m     item \u001b[39m=\u001b[39m \u001b[39mself\u001b[39;49m\u001b[39m.\u001b[39;49m_items\u001b[39m.\u001b[39;49mpopleft()\n\u001b[1;32m    857\u001b[0m \u001b[39mexcept\u001b[39;00m \u001b[39mIndexError\u001b[39;00m:\n",
      "\u001b[0;31mIndexError\u001b[0m: pop from an empty deque",
      "\nDuring handling of the above exception, another exception occurred:\n",
      "\u001b[0;31mKeyboardInterrupt\u001b[0m                         Traceback (most recent call last)",
      "\u001b[1;32m/home/tmek1244/QHyperMSC/main.ipynb Cell 4\u001b[0m line \u001b[0;36m7\n\u001b[1;32m      <a href='vscode-notebook-cell:/home/tmek1244/QHyperMSC/main.ipynb#W5sZmlsZQ%3D%3D?line=3'>4</a>\u001b[0m \u001b[39mfor\u001b[39;00m elite_frac \u001b[39min\u001b[39;00m elite_fracs:\n\u001b[1;32m      <a href='vscode-notebook-cell:/home/tmek1244/QHyperMSC/main.ipynb#W5sZmlsZQ%3D%3D?line=4'>5</a>\u001b[0m     \u001b[39mprint\u001b[39m(\u001b[39mf\u001b[39m\u001b[39m\"\u001b[39m\u001b[39mRunning experiment with samples_per_epoch=\u001b[39m\u001b[39m{\u001b[39;00msamples_per_epoch\u001b[39m}\u001b[39;00m\u001b[39m, elite_frac=\u001b[39m\u001b[39m{\u001b[39;00melite_frac\u001b[39m}\u001b[39;00m\u001b[39m\"\u001b[39m)\n\u001b[0;32m----> <a href='vscode-notebook-cell:/home/tmek1244/QHyperMSC/main.ipynb#W5sZmlsZQ%3D%3D?line=6'>7</a>\u001b[0m     results \u001b[39m=\u001b[39m [\n\u001b[1;32m      <a href='vscode-notebook-cell:/home/tmek1244/QHyperMSC/main.ipynb#W5sZmlsZQ%3D%3D?line=7'>8</a>\u001b[0m         run_experiment(samples_per_epoch, elite_frac)\n\u001b[1;32m      <a href='vscode-notebook-cell:/home/tmek1244/QHyperMSC/main.ipynb#W5sZmlsZQ%3D%3D?line=8'>9</a>\u001b[0m         \u001b[39mfor\u001b[39;00m _ \u001b[39min\u001b[39;00m \u001b[39mrange\u001b[39m(\u001b[39m10\u001b[39m)\n\u001b[1;32m     <a href='vscode-notebook-cell:/home/tmek1244/QHyperMSC/main.ipynb#W5sZmlsZQ%3D%3D?line=9'>10</a>\u001b[0m     ]\n\u001b[1;32m     <a href='vscode-notebook-cell:/home/tmek1244/QHyperMSC/main.ipynb#W5sZmlsZQ%3D%3D?line=10'>11</a>\u001b[0m     \u001b[39mprint\u001b[39m(\u001b[39mf\u001b[39m\u001b[39m\"\u001b[39m\u001b[39mResults: \u001b[39m\u001b[39m{\u001b[39;00mnp\u001b[39m.\u001b[39mmean(results)\u001b[39m}\u001b[39;00m\u001b[39m +- \u001b[39m\u001b[39m{\u001b[39;00mnp\u001b[39m.\u001b[39mstd(results)\u001b[39m}\u001b[39;00m\u001b[39m\"\u001b[39m)\n\u001b[1;32m     <a href='vscode-notebook-cell:/home/tmek1244/QHyperMSC/main.ipynb#W5sZmlsZQ%3D%3D?line=12'>13</a>\u001b[0m     \u001b[39mwith\u001b[39;00m \u001b[39mopen\u001b[39m(\u001b[39mf\u001b[39m\u001b[39m\"\u001b[39m\u001b[39mresults/\u001b[39m\u001b[39m{\u001b[39;00mfile_name\u001b[39m}\u001b[39;00m\u001b[39m\"\u001b[39m, \u001b[39m'\u001b[39m\u001b[39ma\u001b[39m\u001b[39m'\u001b[39m) \u001b[39mas\u001b[39;00m f:\n",
      "\u001b[1;32m/home/tmek1244/QHyperMSC/main.ipynb Cell 4\u001b[0m line \u001b[0;36m8\n\u001b[1;32m      <a href='vscode-notebook-cell:/home/tmek1244/QHyperMSC/main.ipynb#W5sZmlsZQ%3D%3D?line=3'>4</a>\u001b[0m \u001b[39mfor\u001b[39;00m elite_frac \u001b[39min\u001b[39;00m elite_fracs:\n\u001b[1;32m      <a href='vscode-notebook-cell:/home/tmek1244/QHyperMSC/main.ipynb#W5sZmlsZQ%3D%3D?line=4'>5</a>\u001b[0m     \u001b[39mprint\u001b[39m(\u001b[39mf\u001b[39m\u001b[39m\"\u001b[39m\u001b[39mRunning experiment with samples_per_epoch=\u001b[39m\u001b[39m{\u001b[39;00msamples_per_epoch\u001b[39m}\u001b[39;00m\u001b[39m, elite_frac=\u001b[39m\u001b[39m{\u001b[39;00melite_frac\u001b[39m}\u001b[39;00m\u001b[39m\"\u001b[39m)\n\u001b[1;32m      <a href='vscode-notebook-cell:/home/tmek1244/QHyperMSC/main.ipynb#W5sZmlsZQ%3D%3D?line=6'>7</a>\u001b[0m     results \u001b[39m=\u001b[39m [\n\u001b[0;32m----> <a href='vscode-notebook-cell:/home/tmek1244/QHyperMSC/main.ipynb#W5sZmlsZQ%3D%3D?line=7'>8</a>\u001b[0m         run_experiment(samples_per_epoch, elite_frac)\n\u001b[1;32m      <a href='vscode-notebook-cell:/home/tmek1244/QHyperMSC/main.ipynb#W5sZmlsZQ%3D%3D?line=8'>9</a>\u001b[0m         \u001b[39mfor\u001b[39;00m _ \u001b[39min\u001b[39;00m \u001b[39mrange\u001b[39m(\u001b[39m10\u001b[39m)\n\u001b[1;32m     <a href='vscode-notebook-cell:/home/tmek1244/QHyperMSC/main.ipynb#W5sZmlsZQ%3D%3D?line=9'>10</a>\u001b[0m     ]\n\u001b[1;32m     <a href='vscode-notebook-cell:/home/tmek1244/QHyperMSC/main.ipynb#W5sZmlsZQ%3D%3D?line=10'>11</a>\u001b[0m     \u001b[39mprint\u001b[39m(\u001b[39mf\u001b[39m\u001b[39m\"\u001b[39m\u001b[39mResults: \u001b[39m\u001b[39m{\u001b[39;00mnp\u001b[39m.\u001b[39mmean(results)\u001b[39m}\u001b[39;00m\u001b[39m +- \u001b[39m\u001b[39m{\u001b[39;00mnp\u001b[39m.\u001b[39mstd(results)\u001b[39m}\u001b[39;00m\u001b[39m\"\u001b[39m)\n\u001b[1;32m     <a href='vscode-notebook-cell:/home/tmek1244/QHyperMSC/main.ipynb#W5sZmlsZQ%3D%3D?line=12'>13</a>\u001b[0m     \u001b[39mwith\u001b[39;00m \u001b[39mopen\u001b[39m(\u001b[39mf\u001b[39m\u001b[39m\"\u001b[39m\u001b[39mresults/\u001b[39m\u001b[39m{\u001b[39;00mfile_name\u001b[39m}\u001b[39;00m\u001b[39m\"\u001b[39m, \u001b[39m'\u001b[39m\u001b[39ma\u001b[39m\u001b[39m'\u001b[39m) \u001b[39mas\u001b[39;00m f:\n",
      "\u001b[1;32m/home/tmek1244/QHyperMSC/main.ipynb Cell 4\u001b[0m line \u001b[0;36m1\n\u001b[1;32m      <a href='vscode-notebook-cell:/home/tmek1244/QHyperMSC/main.ipynb#W5sZmlsZQ%3D%3D?line=8'>9</a>\u001b[0m _config[\u001b[39m'\u001b[39m\u001b[39msolver\u001b[39m\u001b[39m'\u001b[39m][\u001b[39m'\u001b[39m\u001b[39mhyper_optimizer\u001b[39m\u001b[39m'\u001b[39m][\u001b[39m'\u001b[39m\u001b[39mepochs\u001b[39m\u001b[39m'\u001b[39m] \u001b[39m=\u001b[39m \u001b[39m10_000\u001b[39m \u001b[39m/\u001b[39m\u001b[39m/\u001b[39m samples_per_epoch\n\u001b[1;32m     <a href='vscode-notebook-cell:/home/tmek1244/QHyperMSC/main.ipynb#W5sZmlsZQ%3D%3D?line=9'>10</a>\u001b[0m solver \u001b[39m=\u001b[39m solver_from_config(_config)\n\u001b[0;32m---> <a href='vscode-notebook-cell:/home/tmek1244/QHyperMSC/main.ipynb#W5sZmlsZQ%3D%3D?line=10'>11</a>\u001b[0m results \u001b[39m=\u001b[39m solver\u001b[39m.\u001b[39;49msolve()\n\u001b[1;32m     <a href='vscode-notebook-cell:/home/tmek1244/QHyperMSC/main.ipynb#W5sZmlsZQ%3D%3D?line=12'>13</a>\u001b[0m \u001b[39mreturn\u001b[39;00m weighted_avg_evaluation(results\u001b[39m.\u001b[39mresults_probabilities, solver\u001b[39m.\u001b[39mproblem\u001b[39m.\u001b[39mget_score)\n",
      "File \u001b[0;32m~/QHyperMSC/QHyper/solvers/vqa/base.py:102\u001b[0m, in \u001b[0;36mVQA.solve\u001b[0;34m(self, params_inits)\u001b[0m\n\u001b[1;32m     99\u001b[0m \u001b[39mif\u001b[39;00m \u001b[39mself\u001b[39m\u001b[39m.\u001b[39mhyper_optimizer:\n\u001b[1;32m    100\u001b[0m     wrapper \u001b[39m=\u001b[39m GlobalOptimizerFunction(\n\u001b[1;32m    101\u001b[0m         \u001b[39mself\u001b[39m\u001b[39m.\u001b[39mpqc, \u001b[39mself\u001b[39m\u001b[39m.\u001b[39mproblem, \u001b[39mself\u001b[39m\u001b[39m.\u001b[39moptimizer, params_inits)\n\u001b[0;32m--> 102\u001b[0m     res \u001b[39m=\u001b[39m \u001b[39mself\u001b[39;49m\u001b[39m.\u001b[39;49mhyper_optimizer\u001b[39m.\u001b[39;49mminimize(wrapper, hyper_args)\n\u001b[1;32m    103\u001b[0m     best_hargs \u001b[39m=\u001b[39m res\u001b[39m.\u001b[39mparams\n\u001b[1;32m    105\u001b[0m     global_results \u001b[39m=\u001b[39m \u001b[39mself\u001b[39m\u001b[39m.\u001b[39m_find_best_result_from_history(\n\u001b[1;32m    106\u001b[0m         res\u001b[39m.\u001b[39mhistory, res\u001b[39m.\u001b[39mvalue)\n",
      "File \u001b[0;32m~/QHyperMSC/QHyper/optimizers/cem.py:109\u001b[0m, in \u001b[0;36mCEM.minimize\u001b[0;34m(self, func, init)\u001b[0m\n\u001b[1;32m    107\u001b[0m hyperparams \u001b[39m=\u001b[39m \u001b[39mself\u001b[39m\u001b[39m.\u001b[39m_get_points(mean, cov)\n\u001b[1;32m    108\u001b[0m \u001b[39mwith\u001b[39;00m mp\u001b[39m.\u001b[39mPool(processes\u001b[39m=\u001b[39m\u001b[39mself\u001b[39m\u001b[39m.\u001b[39mprocesses) \u001b[39mas\u001b[39;00m p:\n\u001b[0;32m--> 109\u001b[0m     results \u001b[39m=\u001b[39m \u001b[39mlist\u001b[39;49m(tqdm\u001b[39m.\u001b[39;49mtqdm(\n\u001b[1;32m    110\u001b[0m         p\u001b[39m.\u001b[39;49mimap(func,\n\u001b[1;32m    111\u001b[0m                [h\u001b[39m.\u001b[39;49mreshape(_init\u001b[39m.\u001b[39;49mshape) \u001b[39mfor\u001b[39;49;00m h \u001b[39min\u001b[39;49;00m hyperparams]),\n\u001b[1;32m    112\u001b[0m         total\u001b[39m=\u001b[39;49m\u001b[39mlen\u001b[39;49m(hyperparams),\n\u001b[1;32m    113\u001b[0m         disable\u001b[39m=\u001b[39;49m\u001b[39mself\u001b[39;49m\u001b[39m.\u001b[39;49mdisable_tqdm,\n\u001b[1;32m    114\u001b[0m     ))\n\u001b[1;32m    115\u001b[0m elite_ids \u001b[39m=\u001b[39m np\u001b[39m.\u001b[39marray(\n\u001b[1;32m    116\u001b[0m     [x\u001b[39m.\u001b[39mvalue \u001b[39mfor\u001b[39;00m x \u001b[39min\u001b[39;00m results])\u001b[39m.\u001b[39margsort()[:\u001b[39mself\u001b[39m\u001b[39m.\u001b[39mn_elite]\n\u001b[1;32m    118\u001b[0m elite_weights \u001b[39m=\u001b[39m [hyperparams[i]\u001b[39m.\u001b[39mflatten() \u001b[39mfor\u001b[39;00m i \u001b[39min\u001b[39;00m elite_ids]\n",
      "File \u001b[0;32m~/QHyperMSC/venv/lib/python3.10/site-packages/tqdm/std.py:1170\u001b[0m, in \u001b[0;36mtqdm.__iter__\u001b[0;34m(self)\u001b[0m\n\u001b[1;32m   1167\u001b[0m \u001b[39m# If the bar is disabled, then just walk the iterable\u001b[39;00m\n\u001b[1;32m   1168\u001b[0m \u001b[39m# (note: keep this check outside the loop for performance)\u001b[39;00m\n\u001b[1;32m   1169\u001b[0m \u001b[39mif\u001b[39;00m \u001b[39mself\u001b[39m\u001b[39m.\u001b[39mdisable:\n\u001b[0;32m-> 1170\u001b[0m     \u001b[39mfor\u001b[39;00m obj \u001b[39min\u001b[39;00m iterable:\n\u001b[1;32m   1171\u001b[0m         \u001b[39myield\u001b[39;00m obj\n\u001b[1;32m   1172\u001b[0m     \u001b[39mreturn\u001b[39;00m\n",
      "File \u001b[0;32m/usr/lib/python3.10/multiprocessing/pool.py:861\u001b[0m, in \u001b[0;36mIMapIterator.next\u001b[0;34m(self, timeout)\u001b[0m\n\u001b[1;32m    859\u001b[0m     \u001b[39mself\u001b[39m\u001b[39m.\u001b[39m_pool \u001b[39m=\u001b[39m \u001b[39mNone\u001b[39;00m\n\u001b[1;32m    860\u001b[0m     \u001b[39mraise\u001b[39;00m \u001b[39mStopIteration\u001b[39;00m \u001b[39mfrom\u001b[39;00m \u001b[39mNone\u001b[39;00m\n\u001b[0;32m--> 861\u001b[0m \u001b[39mself\u001b[39;49m\u001b[39m.\u001b[39;49m_cond\u001b[39m.\u001b[39;49mwait(timeout)\n\u001b[1;32m    862\u001b[0m \u001b[39mtry\u001b[39;00m:\n\u001b[1;32m    863\u001b[0m     item \u001b[39m=\u001b[39m \u001b[39mself\u001b[39m\u001b[39m.\u001b[39m_items\u001b[39m.\u001b[39mpopleft()\n",
      "File \u001b[0;32m/usr/lib/python3.10/threading.py:320\u001b[0m, in \u001b[0;36mCondition.wait\u001b[0;34m(self, timeout)\u001b[0m\n\u001b[1;32m    318\u001b[0m \u001b[39mtry\u001b[39;00m:    \u001b[39m# restore state no matter what (e.g., KeyboardInterrupt)\u001b[39;00m\n\u001b[1;32m    319\u001b[0m     \u001b[39mif\u001b[39;00m timeout \u001b[39mis\u001b[39;00m \u001b[39mNone\u001b[39;00m:\n\u001b[0;32m--> 320\u001b[0m         waiter\u001b[39m.\u001b[39;49macquire()\n\u001b[1;32m    321\u001b[0m         gotit \u001b[39m=\u001b[39m \u001b[39mTrue\u001b[39;00m\n\u001b[1;32m    322\u001b[0m     \u001b[39melse\u001b[39;00m:\n",
      "\u001b[0;31mKeyboardInterrupt\u001b[0m: "
     ]
    }
   ],
   "source": [
    "import numpy as np\n",
    "\n",
    "for samples_per_epoch in samples_per_epochs:\n",
    "    for elite_frac in elite_fracs:\n",
    "        print(f\"Running experiment with samples_per_epoch={samples_per_epoch}, elite_frac={elite_frac}\")\n",
    "\n",
    "        results = [\n",
    "            run_experiment(samples_per_epoch, elite_frac)\n",
    "            for _ in range(10)\n",
    "        ]\n",
    "        print(f\"Results: {np.mean(results)} +- {np.std(results)}\")\n",
    "\n",
    "        with open(f\"results/{file_name}\", 'a') as f:\n",
    "            f.write(f\"{samples_per_epoch},{elite_frac},{np.mean(results)},{np.std(results)}\\n\")\n"
   ]
  },
  {
   "cell_type": "code",
   "execution_count": null,
   "metadata": {},
   "outputs": [],
   "source": []
  }
 ],
 "metadata": {
  "kernelspec": {
   "display_name": "venv",
   "language": "python",
   "name": "python3"
  },
  "language_info": {
   "codemirror_mode": {
    "name": "ipython",
    "version": 3
   },
   "file_extension": ".py",
   "mimetype": "text/x-python",
   "name": "python",
   "nbconvert_exporter": "python",
   "pygments_lexer": "ipython3",
   "version": "3.10.12"
  }
 },
 "nbformat": 4,
 "nbformat_minor": 2
}
